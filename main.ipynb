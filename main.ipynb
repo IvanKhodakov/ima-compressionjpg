{
 "cells": [
  {
   "cell_type": "code",
   "execution_count": null,
   "metadata": {},
   "outputs": [],
   "source": [
    "# Définition de la fonction principale (des détails supplémentaires sont nécessaires pour une implémentation complète)\n",
    "def main(img):\n",
    "    main_grid = zero(input, input_jpeg, luminance, luminance_jpeg,\n",
    "                     votes, votes_jpeg, lnfa_grids,\n",
    "                     foreign_regions, foreign_regions_n,\n",
    "                     missing_regions, missing_regions_n,\n",
    "                     mask_f, mask_f_reg, mask_m, mask_m_reg, X, Y, C, CC)\n",
    "\n",
    "    # Afficher le résultat de la détection\n",
    "    if main_grid == -1:\n",
    "        print(\"Aucune grille JPEG globale trouvée.\")\n",
    "\n",
    "    if main_grid > -1:\n",
    "        print(f\"Grille principale trouvée : #{main_grid} ({main_grid % 8},{main_grid // 8}) log(nfa) = {lnfa_grids[main_grid]}\")\n",
    "        global_grids += 1\n",
    "\n",
    "    for i in range(64):\n",
    "        if lnfa_grids[i] < 0.0 and i != main_grid:\n",
    "            print(f\"Grille globale significative trouvée : #{i} ({i % 8},{i // 8}) log(nfa) = {lnfa_grids[i]}\")\n",
    "            global_grids += 1\n",
    "\n",
    "    if foreign_regions_n != 0:\n",
    "        for i in range(foreign_regions_n):\n",
    "            if main_grid != -1:\n",
    "                print(\"\\nUne grille significative différente de la principale a été trouvée ici :\")\n",
    "            else:\n",
    "                print(\"\\nUne grille significative a été trouvée ici :\")\n",
    "            region = foreign_regions[i]\n",
    "            print(f\"Boîte englobante : {region.x0} {region.y0} à {region.x1} {region.y1} [{region.x1 - region.x0 + 1}x{region.y1 - region.y0 + 1}]\")\n",
    "            print(f\"Grille : #{region.grid} ({region.grid % 8},{region.grid // 8}) log(nfa) = {region.lnfa}\")\n",
    "\n",
    "    if main_grid > -1 and missing_regions_n > 0:\n",
    "        for i in range(missing_regions_n):\n",
    "            region = missing_regions[i]\n",
    "            print(\"\\nUne région avec une grille JPEG manquante a été trouvée ici :\")\n",
    "            print(f\"Boîte englobante : {region.x0} {region.y0} à {region.x1} {region.y1} [{region.x1 - region.x0 + 1}x{region.y1 - region.y0 + 1}]\")\n",
    "            print(f\"Grille : #{region.grid} ({region.grid % 8},{region.grid // 8}) log(nfa) = {region.lnfa}\")\n",
    "\n",
    "    if foreign_regions_n + missing_regions_n == 0 and main_grid < 1:\n",
    "        print(\"\\nAucune trace suspecte trouvée dans l'image avec l'analyse effectuée.\")\n",
    "\n",
    "    if main_grid > 0:\n",
    "        print(\"\\nL'origine de la grille JPEG la plus significative n'est pas (0,0). Cela peut indiquer que l'image a été recadrée.\")\n",
    "\n",
    "    if global_grids > 1:\n",
    "        print(\"\\nIl y a plus d'une grille significative. C'est suspect.\")\n",
    "\n",
    "    if foreign_regions_n + missing_regions_n > 0:\n",
    "        print(\"\\nDes traces suspectes ont été trouvées dans l'image. Cela peut être causé par des manipulations d'image telles que le rééchantillonnage, la copie-coller, le montage. Veuillez examiner la région significative déviante pour vous faire votre propre opinion sur une éventuelle falsification.\")\n"
   ]
  }
 ],
 "metadata": {
  "language_info": {
   "name": "python"
  }
 },
 "nbformat": 4,
 "nbformat_minor": 2
}
