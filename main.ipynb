{
 "cells": [
  {
   "cell_type": "code",
   "execution_count": null,
   "metadata": {},
   "outputs": [],
   "source": [
    "# Définition de la fonction principale (des détails supplémentaires sont nécessaires pour une implémentation complète)\n",
    "def main():\n",
    "    main_grid = zero(input, input_jpeg, luminance, luminance_jpeg,\n",
    "                     votes, votes_jpeg, lnfa_grids,\n",
    "                     foreign_regions, foreign_regions_n,\n",
    "                     missing_regions, missing_regions_n,\n",
    "                     mask_f, mask_f_reg, mask_m, mask_m_reg, X, Y, C, CC)\n",
    "\n",
    "    # Afficher le résultat de la détection\n",
    "    if main_grid == -1:\n",
    "        print(\"No overall JPEG grid found.\")\n",
    "\n",
    "    if main_grid > -1:\n",
    "        print(f\"main grid found: #{main_grid} ({main_grid % 8},{main_grid // 8}) log(nfa) = {lnfa_grids[main_grid]}\")\n",
    "        global_grids += 1\n",
    "\n",
    "    for i in range(64):\n",
    "        if lnfa_grids[i] < 0.0 and i != main_grid:\n",
    "            print(f\"meaningful global grid found: #{i} ({i % 8},{i // 8}) log(nfa) = {lnfa_grids[i]}\")\n",
    "            global_grids += 1\n",
    "\n",
    "    if foreign_regions_n != 0:\n",
    "        for i in range(foreign_regions_n):\n",
    "            if main_grid != -1:\n",
    "                print(\"\\nA meaningful grid different from the main one was found here:\")\n",
    "            else:\n",
    "                print(\"\\nA meaningful grid was found here:\")\n",
    "            region = foreign_regions[i]\n",
    "            print(f\"bounding box: {region.x0} {region.y0} to {region.x1} {region.y1} [{region.x1 - region.x0 + 1}x{region.y1 - region.y0 + 1}]\")\n",
    "            print(f\"grid: #{region.grid} ({region.grid % 8},{region.grid // 8}) log(nfa) = {region.lnfa}\")\n",
    "\n",
    "    if main_grid > -1 and missing_regions_n > 0:\n",
    "        for i in range(missing_regions_n):\n",
    "            region = missing_regions[i]\n",
    "            print(\"\\nA region with missing JPEG grid was found here:\")\n",
    "            print(f\"bounding box: {region.x0} {region.y0} to {region.x1} {region.y1} [{region.x1 - region.x0 + 1}x{region.y1 - region.y0 + 1}]\")\n",
    "            print(f\"grid: #{region.grid} ({region.grid % 8},{region.grid // 8}) log(nfa) = {region.lnfa}\")\n",
    "\n",
    "    if foreign_regions_n + missing_regions_n == 0 and main_grid < 1:\n",
    "        print(\"\\nNo suspicious traces found in the image with the performed analysis.\")\n",
    "\n",
    "    if main_grid > 0:\n",
    "        print(\"\\nThe most meaningful JPEG grid origin is not (0,0). This may indicate that the image has been cropped.\")\n",
    "\n",
    "    if global_grids > 1:\n",
    "        print(\"\\nThere is more than one meaningful grid. This is suspicious.\")\n",
    "\n",
    "    if foreign_regions_n + missing_regions_n > 0:\n",
    "        print(\"\\nSuspicious traces found in the image. This may be caused by image manipulations such as resampling, copy-paste, splicing. Please examine the deviant meaningful region to make your own opinion about a potential forgery.\")\n"
   ]
  }
 ],
 "metadata": {
  "language_info": {
   "name": "python"
  }
 },
 "nbformat": 4,
 "nbformat_minor": 2
}
