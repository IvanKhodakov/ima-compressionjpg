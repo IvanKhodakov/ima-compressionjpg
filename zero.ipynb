{
 "cells": [
  {
   "cell_type": "code",
   "execution_count": 13,
   "metadata": {},
   "outputs": [],
   "source": [
    "# Initialize the environment\n",
    "# Update: 2018-11-27\n",
    "\n",
    "import numpy as np\n",
    "import platform\n",
    "import tempfile\n",
    "import os\n",
    "import math\n",
    "import matplotlib.pyplot as plt\n",
    "from scipy import ndimage as ndi\n",
    "from skimage import io, color\n",
    "from scipy.fftpack import dct"
   ]
  },
  {
   "cell_type": "code",
   "execution_count": 17,
   "metadata": {},
   "outputs": [
    {
     "name": "stdout",
     "output_type": "stream",
     "text": [
      "[[0. 0. 0.]\n",
      " [0. 0. 0.]]\n",
      "[[0. 0. 0.]\n",
      " [0. 0. 1.]]\n"
     ]
    }
   ],
   "source": [
    "im=io.imread('pelican99.jpg')\n",
    "im2=io.imread('lena5.jpg')\n",
    "im = color.rgb2ycbcr(im)\n",
    "im2 = color.rgb2ycbcr(im2)\n",
    "\n",
    "votes = np.zeros((2,3)) # Table des votes\n",
    "print(votes)\n",
    "votes[1,2] = 1\n",
    "print(votes)\n"
   ]
  },
  {
   "cell_type": "code",
   "execution_count": 15,
   "metadata": {},
   "outputs": [],
   "source": [
    "def im_luminance(im):\n",
    "    if len(im.shape) == 3:\n",
    "        R, G, B = im[:,:,0], im[:,:,1], im[:,:,2]\n",
    "        luminance = 0.299*R + 0.587*G + 0.114*B\n",
    "    else:\n",
    "        luminance = im\n",
    "    return luminance"
   ]
  },
  {
   "cell_type": "code",
   "execution_count": 16,
   "metadata": {},
   "outputs": [],
   "source": [
    "def voteMAP(image): # image en luminance\n",
    "    shape = image.shape\n",
    "    X = shape[0]\n",
    "    Y = shape[1]\n",
    "    votes = np.zeros(X,Y) # Table des votes\n",
    "    zeros = np.zeros(X,Y) # Table des zeros\n",
    "    # DCT par blocs de 8x8 pixels\n",
    "    for x in range(X - 7):\n",
    "        for y in range(Y - 7):\n",
    "            z = 0 # Nombre de zeros dans le bloc\n",
    "            bloc = image[x:x+8,y:y+8]\n",
    "            cx = True\n",
    "            cy = True\n",
    "            while (cx or cy): #On verifie que le bloc n'est pas constant\n",
    "                for xx in range(8):\n",
    "                    for yy in range(8):\n",
    "                        if bloc[xx,yy] != bloc[xx,0]: #On verifie que le bloc n'est pas constant selon x\n",
    "                            cx = False\n",
    "                        if bloc[xx,yy] != bloc[0,yy]: #idem pour y\n",
    "                            cy = False\n",
    "\n",
    "            dctblock = dct(dct(bloc.T, norm='ortho').T, norm='ortho') # DCT du bloc\n",
    "            for xx in range(8):\n",
    "                for yy in range(8):\n",
    "                    if abs(dctblock[xx,yy]) < 0.5:\n",
    "                        z += 1 # On compte les zeros\n",
    "            \n",
    "            for xx in range(x, x + 8): # On vote pour le bloc\n",
    "                for yy in range(y, y + 8):\n",
    "                    if z > 0 and z > votes[xx,yy]:\n",
    "                        if cx or cy:\n",
    "                            votes[xx,yy] = -1\n",
    "                        else:\n",
    "                            zeros[xx,yy] = z\n",
    "                            votes[xx,yy] = (x%8,y%8) # On vote pour la meilleure grille\n",
    "                        \n",
    "    # On elimine les bordures de l'image\n",
    "    for xx in range(X):\n",
    "        for yy in range(7):\n",
    "            votes[xx + yy * X] = -1\n",
    "        for yy in range(Y - 7, Y):\n",
    "            votes[xx + yy * X] = -1\n",
    "    for yy in range(Y):\n",
    "        for xx in range(7):\n",
    "            votes[xx + yy * X] = -1\n",
    "        for xx in range(X - 7, X):\n",
    "            votes[xx + yy * X] = -1\n",
    "    \n",
    "    return votes"
   ]
  },
  {
   "cell_type": "code",
   "execution_count": 6,
   "metadata": {},
   "outputs": [],
   "source": [
    "def detectgrid (im) :\n",
    "    shape = im.shape\n",
    "    X = shape[0]\n",
    "    Y = shape[1]  \n",
    "    votes = voteMAP(im)\n",
    "    gridvotes = np.zeros((8,8))\n",
    "    detectedgrid = 0\n",
    "    maxvote = 0\n",
    "    mostvotedgrid = 0\n",
    "    for x in range(X) :\n",
    "        for y in range(Y) :\n",
    "            if votes[x,y] != 0 :\n",
    "                gridvotes[votes[x,y]]+=1\n",
    "                if gridvotes[votes[x,y]]> maxvote :\n",
    "                    maxvote = gridvotes[votes[x,y]]\n",
    "                    mostvotedgrid = votes[x,y]\n",
    "    return mostvotedgrid"
   ]
  },
  {
   "cell_type": "code",
   "execution_count": 5,
   "metadata": {},
   "outputs": [],
   "source": [
    "def votesforeachpixel(im) :\n",
    "    shape = im.shape\n",
    "    X = shape[0]\n",
    "    Y = shape[1]  \n",
    "    zeros = np.zeros((X,Y))\n",
    "    votes = np.zeros((X,Y))\n",
    "    for x in range(X-7) :\n",
    "        for y in range(Y-7) :\n",
    "            block = im[x:x+8,y:y+8,0]\n",
    "            constantx = False\n",
    "            constanty = False\n",
    "            #on regarde si le block est constant selon x ou y\n",
    "            for xx in range(8) :\n",
    "                for yy in range(8) :\n",
    "                    if block[xx,yy] == block [xx,0] :\n",
    "                        constanty = True\n",
    "\n",
    "                    if block[xx,yy] == block [0,yy] :\n",
    "                        constantx = True\n",
    "\n",
    "            dctblock = dct(dct(block, axis=0, norm='ortho'), axis=1, norm='ortho')\n",
    "            nbzeros = 0\n",
    "\n",
    "            for i in range(8) :\n",
    "                for j in range(8) :\n",
    "                    if abs(dctblock[i,j])<0.5 :\n",
    "                        nbzeros+=1\n",
    "            for xx in range(8) :\n",
    "                for yy in range(8) :\n",
    "                    if nbzeros>zeros[x+xx,y+yy] :\n",
    "                        zeros[x+xx,y+yy] = nbzeros\n",
    "                        if not (constantx or constanty) :\n",
    "                            votes[x+xx,y+yy]= (x%8,y%8)\n",
    "    return votes"
   ]
  },
  {
   "cell_type": "code",
   "execution_count": 21,
   "metadata": {},
   "outputs": [
    {
     "name": "stdout",
     "output_type": "stream",
     "text": [
      "(0, 0)\n",
      "(0, 0)\n"
     ]
    }
   ],
   "source": [
    "print(detectgrid(im))\n",
    "print(detectgrid(im2))"
   ]
  },
  {
   "cell_type": "code",
   "execution_count": null,
   "metadata": {},
   "outputs": [],
   "source": [
    "def zero(input, input_jpeg, luminance, luminance_jpeg, votes, votes_jpeg, lnfa_grids, foreign_regions, foreign_regions_n, missing_regions, missing_regions_n, mask_f, mask_f_reg, mask_m, mask_m_reg, X, Y, C, C_jpeg):\n",
    "    main_grid = -1\n",
    "    im = im_luminance(image)\n",
    "    main_grid = detectgrid(im)\n",
    "    foreign_regions_n[0] = detect_forgeries(votes, mask_f, mask_f_reg, foreign_regions, X, Y, main_grid, 63)\n",
    "    if main_grid > -1 and input_jpeg is not None:\n",
    "        rgb2luminance(input_jpeg, luminance_jpeg, X, Y, C_jpeg)\n",
    "        compute_grid_votes_per_pixel(luminance_jpeg, votes_jpeg, X, Y)\n",
    "        for x in range(X):\n",
    "            for y in range(Y):\n",
    "                if votes[x+y*X] == main_grid:\n",
    "                    votes_jpeg[x+y*X] = -1\n",
    "        missing_regions_n[0] = detect_forgeries(votes_jpeg, mask_m, mask_m_reg, missing_regions, X, Y, -1, 0)\n",
    "\n",
    "    return main_grid"
   ]
  },
  {
   "cell_type": "code",
   "execution_count": null,
   "metadata": {},
   "outputs": [],
   "source": []
  }
 ],
 "metadata": {
  "kernelspec": {
   "display_name": "Python 3",
   "language": "python",
   "name": "python3"
  },
  "language_info": {
   "codemirror_mode": {
    "name": "ipython",
    "version": 3
   },
   "file_extension": ".py",
   "mimetype": "text/x-python",
   "name": "python",
   "nbconvert_exporter": "python",
   "pygments_lexer": "ipython3",
   "version": "3.10.12"
  }
 },
 "nbformat": 4,
 "nbformat_minor": 2
}
