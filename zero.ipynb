{
 "cells": [
  {
   "cell_type": "code",
   "execution_count": null,
   "metadata": {},
   "outputs": [],
   "source": [
    "# Initialize the environment\n",
    "# Update: 2018-11-27\n",
    "\n",
    "import numpy as np\n",
    "import platform\n",
    "import tempfile\n",
    "import os\n",
    "import math\n",
    "import matplotlib.pyplot as plt\n",
    "from scipy import ndimage as ndi\n",
    "from skimage import io, color\n",
    "from scipy.fftpack import dct\n",
    "from scipy.stats import binom"
   ]
  },
  {
   "cell_type": "code",
   "execution_count": null,
   "metadata": {},
   "outputs": [],
   "source": [
    "im=io.imread('pelican99.jpg')\n",
    "im2=io.imread('lena5.jpg')\n",
    "im = color.rgb2ycbcr(im)\n",
    "im2 = color.rgb2ycbcr(im2)\n",
    "\n",
    "votes = np.zeros((2,3)) # Table des votes\n",
    "print(votes)\n",
    "votes[1,2] = 1\n",
    "print(votes)"
   ]
  },
  {
   "cell_type": "code",
   "execution_count": null,
   "metadata": {},
   "outputs": [],
   "source": [
    "def im_luminance(im):\n",
    "    if len(im.shape) == 3:\n",
    "        R, G, B = im[:,:,0], im[:,:,1], im[:,:,2]\n",
    "        luminance = 0.299*R + 0.587*G + 0.114*B\n",
    "    else:\n",
    "        luminance = im\n",
    "    return luminance\n",
    "\n",
    "plt.imshow(im[:,:,2])\n"
   ]
  },
  {
   "cell_type": "code",
   "execution_count": null,
   "metadata": {},
   "outputs": [],
   "source": [
    "def BinTail(n,k,p):\n",
    "    return 1-binom.cdf(k-1,n,p)"
   ]
  },
  {
   "cell_type": "code",
   "execution_count": 1,
   "metadata": {},
   "outputs": [],
   "source": [
    "def NFA(nvotes,X,Y) : # on lui donne en entrée le nombre de votes pour la grille sur laquelle on veut calculer le NFA, et la taille de l'image\n",
    "    p = 1/64\n",
    "    n=(X*Y)/64\n",
    "    nvotes2 = nvotes/64\n",
    "    # Remarque : on pourrait calculer nvotes directement à l'intérieur de cette fonction, mais il faudrait lui donner la carte des votes.\n",
    "    return ((X*Y*64)**2)*BinTail(n,nvotes2,p)\n"
   ]
  },
  {
   "cell_type": "code",
   "execution_count": null,
   "metadata": {},
   "outputs": [],
   "source": [
    "def voteMAP(image): # image en luminance\n",
    "    shape = image.shape\n",
    "    X = shape[0]\n",
    "    Y = shape[1]\n",
    "    votes = np.zeros((X,Y)) # Table des votes\n",
    "    zeros = np.zeros((X,Y)) # Table des zeros\n",
    "    # DCT par blocs de 8x8 pixels\n",
    "    for x in range(X - 7):\n",
    "        for y in range(Y - 7):\n",
    "            z = 0 # Nombre de zeros dans le bloc\n",
    "            bloc = image[x:x+8,y:y+8]\n",
    "            cx = True\n",
    "            cy = True\n",
    "            while (cx or cy): #On verifie que le bloc n'est pas constant\n",
    "                for xx in range(8):\n",
    "                    for yy in range(8):\n",
    "                        if bloc[xx,yy] != bloc[xx,0]: #On verifie que le bloc n'est pas constant selon x\n",
    "                            cx = False\n",
    "                        if bloc[xx,yy] != bloc[0,yy]: #idem pour y\n",
    "                            cy = False\n",
    "\n",
    "            dctblock = dct(dct(bloc.T, norm='ortho').T, norm='ortho') # DCT du bloc\n",
    "            for xx in range(8):\n",
    "                for yy in range(8):\n",
    "                    if abs(dctblock[xx,yy]) < 0.5:\n",
    "                        z += 1 # On compte les zeros\n",
    "            \n",
    "            for xx in range(x, x + 8): # On vote pour le bloc\n",
    "                for yy in range(y, y + 8):\n",
    "                    if z > 0 and z > votes[xx,yy]:\n",
    "                        if cx or cy:\n",
    "                            votes[xx,yy] = -1\n",
    "                        else:\n",
    "                            zeros[xx,yy] = z\n",
    "                            votes[xx,yy] = (x%8 + y%8 * 8) # On vote pour la meilleure grille\n",
    "                        \n",
    "    # On elimine les bordures de l'image\n",
    "    for xx in range(X):\n",
    "        for yy in range(7):\n",
    "            votes[xx,yy] = -1\n",
    "        for yy in range(Y - 7, Y):\n",
    "            votes[xx,yy] = -1\n",
    "    for yy in range(Y):\n",
    "        for xx in range(7):\n",
    "            votes[xx,yy] = -1\n",
    "        for xx in range(X - 7, X):\n",
    "            votes[xx,yy] = -1\n",
    "    \n",
    "    return votes"
   ]
  },
  {
   "cell_type": "code",
   "execution_count": null,
   "metadata": {},
   "outputs": [],
   "source": [
    "def detectgrid (im) : # le but de la fonction est de detecter la grille la plus presente dans l'image et de la renvoyer (on renvoye aussi maxvote juste comme indicateur)\n",
    "    shape = im.shape\n",
    "    X = shape[0]\n",
    "    Y = shape[1]  \n",
    "    votes = voteMAP(im)\n",
    "    gridvotes = np.zeros((8,8))\n",
    "    maxvote = 0\n",
    "    mostvotedgrid = (0,0)\n",
    "    for x in range(X) :\n",
    "        for y in range(Y) :\n",
    "            gridvotes[np.unravel_index(votes[x,y],(8,8))]+=1\n",
    "            if gridvotes[np.unravel_index(votes[x,y],(8,8))]> maxvote :\n",
    "                maxvote = gridvotes[np.unravel_index(votes[x,y],(8,8))]\n",
    "                mostvotedgrid = np.unravel_index(votes[x,y],(8,8))\n",
    "    NFAv = NFA(maxvote,X,Y)\n",
    "    if NFAv<1 :\n",
    "        print(\"La grille la plus presente dans l'image est la grille de coordonnees : \",mostvotedgrid,\" avec \",maxvote,\" votes\")\n",
    "        print(\"Le NFA de cette grille est : \",NFAv)\n",
    "        return mostvotedgrid, maxvote # on renvoie la grille la plus presente dans l'image sous forme de tuple (x,y) entre 0 et 7\n",
    "    else :\n",
    "        print(\"Il n'y a pas de grille dans l'image\")\n",
    "        return (0,0),0\n",
    "    "
   ]
  },
  {
   "cell_type": "code",
   "execution_count": null,
   "metadata": {},
   "outputs": [],
   "source": [
    "def votesforeachpixel(im) :\n",
    "    shape = im.shape\n",
    "    X = shape[0]\n",
    "    Y = shape[1]  \n",
    "    zeros = np.zeros((X,Y))\n",
    "    votes = np.zeros((X,Y))\n",
    "    for x in range(X-7) :\n",
    "        for y in range(Y-7) :\n",
    "            block = im[x:x+8,y:y+8,0]\n",
    "            constantx = False\n",
    "            constanty = False\n",
    "            #on regarde si le block est constant selon x ou y\n",
    "            for xx in range(8) :\n",
    "                for yy in range(8) :\n",
    "                    if block[xx,yy] == block [xx,0] :\n",
    "                        constanty = True\n",
    "\n",
    "                    if block[xx,yy] == block [0,yy] :\n",
    "                        constantx = True\n",
    "\n",
    "            dctblock = dct(dct(block, axis=0, norm='ortho'), axis=1, norm='ortho')\n",
    "            nbzeros = 0\n",
    "\n",
    "            for i in range(8) :\n",
    "                for j in range(8) :\n",
    "                    if abs(dctblock[i,j])<0.5 :\n",
    "                        nbzeros+=1\n",
    "            for xx in range(8) :\n",
    "                for yy in range(8) :\n",
    "                    if nbzeros>zeros[x+xx,y+yy] :\n",
    "                        zeros[x+xx,y+yy] = nbzeros\n",
    "                        if not (constantx or constanty) :\n",
    "                            votes[x+xx,y+yy]= (x%8,y%8)\n",
    "    return votes # on renvoie un tableau de taille X*Y*2 avec en chaque point le vote pour la grille la plus presente. \n",
    "# Ce vote correspond a un tuple (x,y) entre 0 et 7"
   ]
  },
  {
   "cell_type": "code",
   "execution_count": null,
   "metadata": {},
   "outputs": [],
   "source": [
    "print(detectgrid(im))\n",
    "print(detectgrid(im2))"
   ]
  },
  {
   "cell_type": "code",
   "execution_count": null,
   "metadata": {},
   "outputs": [],
   "source": [
    "def zero(input, image, luminance, luminance_jpeg, votes, votes_jpeg, lnfa_grids, foreign_regions, foreign_regions_n, missing_regions, missing_regions_n, mask_f, mask_f_reg, mask_m, mask_m_reg, X, Y, C, C_jpeg):\n",
    "    main_grid = -1\n",
    "    im = im_luminance(image)\n",
    "    main_grid = detectgrid(im)\n",
    "    foreign_regions_n[0] = detect_forgeries(votes, mask_f, mask_f_reg, foreign_regions, X, Y, main_grid, 63)\n",
    "    if main_grid > -1 and image is not None:\n",
    "        im_luminance(image, luminance_jpeg, X, Y, C_jpeg)\n",
    "        voteMAP(luminance_jpeg, votes_jpeg, X, Y)\n",
    "        for x in range(X):\n",
    "            for y in range(Y):\n",
    "                if votes[x+y*X] == main_grid:\n",
    "                    votes_jpeg[x+y*X] = -1\n",
    "        missing_regions_n[0] = detect_forgeries(votes_jpeg, mask_m, mask_m_reg, missing_regions, X, Y, -1, 0)\n",
    "\n",
    "    return main_grid\n"
   ]
  }
 ],
 "metadata": {
  "kernelspec": {
   "display_name": "Python 3",
   "language": "python",
   "name": "python3"
  },
  "language_info": {
   "codemirror_mode": {
    "name": "ipython",
    "version": 3
   },
   "file_extension": ".py",
   "mimetype": "text/x-python",
   "name": "python",
   "nbconvert_exporter": "python",
   "pygments_lexer": "ipython3",
   "version": "3.10.12"
  }
 },
 "nbformat": 4,
 "nbformat_minor": 2
}
