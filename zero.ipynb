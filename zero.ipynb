{
 "cells": [
  {
   "cell_type": "code",
   "execution_count": 3,
   "metadata": {},
   "outputs": [],
   "source": [
    "import numpy as np\n",
    "import platform\n",
    "import tempfile\n",
    "import os\n",
    "import math\n",
    "import matplotlib.pyplot as plt\n",
    "from scipy import ndimage as ndi\n",
    "from skimage import io, color\n",
    "from scipy.fftpack import dct"
   ]
  },
  {
   "cell_type": "code",
   "execution_count": 4,
   "metadata": {},
   "outputs": [],
   "source": [
    "im=io.imread('pelican99.jpg')\n",
    "im = color.rgb2ycbcr(im)\n"
   ]
  },
  {
   "cell_type": "code",
   "execution_count": null,
   "metadata": {},
   "outputs": [],
   "source": [
    "def im_luminance(im):\n",
    "    if len(im.shape) == 3:\n",
    "        R, G, B = im[:,:,0], im[:,:,1], im[:,:,2]\n",
    "        luminance = 0.299*R + 0.587*G + 0.114*B\n",
    "    else:\n",
    "        luminance = im\n",
    "    return luminance"
   ]
  },
  {
   "cell_type": "code",
   "execution_count": null,
   "metadata": {},
   "outputs": [],
   "source": [
    "def voteMAP(image, X, Y):\n",
    "    cos_t = [[0 for _ in range(8)] for _ in range(8)] # Table utile pour la DCT\n",
    "    for k in range(8):\n",
    "        for l in range(8):\n",
    "            cos_t[k][l] = math.cos((2.0 * k + 1.0) * l * math.pi / 16.0)\n",
    "\n",
    "    votes = [-1] * (X * Y) # Table des votes\n",
    "\n",
    "    # DCT par blocs de 8x8 pixels\n",
    "    for x in range(X - 7):\n",
    "        for y in range(Y - 7):\n",
    "            z = 0 # Nombre de zeros dans le bloc\n",
    "            const_along_x = True\n",
    "            const_along_y = True\n",
    "            while (const_along_x or const_along_y): #On verifie que le bloc n'est pas constant\n",
    "                for xx in range(8):\n",
    "                    for yy in range(8):\n",
    "                        if image[x + xx + (y + yy) * X] != image[x + 0 + (y + yy) * X]: #On verifie que le bloc n'est pas constant selon x\n",
    "                            const_along_x = False\n",
    "                        if image[x + xx + (y + yy) * X] != image[x + xx + (y + 0) * X]: #On verifie que le bloc n'est pas constant selon y\n",
    "                            const_along_y = False\n",
    "\n",
    "            for i in range(8): # On calcule la DCT du bloc\n",
    "                for j in range(8):\n",
    "                    if i > 0 or j > 0:  # Le coefficient (0,0) est constant donc on le prend pas en compte\n",
    "                        dct_ij = 0.0\n",
    "                        for xx in range(8):\n",
    "                            for yy in range(8):\n",
    "                                dct_ij += image[x + xx + (y + yy) * X] * cos_t[xx][i] * cos_t[yy][j]\n",
    "                        dct_ij *= 0.25 * (1.0 / math.sqrt(2.0) if i == 0 else 1.0) * (1.0 / math.sqrt(2.0) if j == 0 else 1.0)\n",
    "                        if abs(dct_ij) < 0.5:\n",
    "                            z += 1\n",
    "                            \n",
    "            for xx in range(x, x + 8): # On vote pour le bloc\n",
    "                for yy in range(y, y + 8):\n",
    "                    if z > 0 and z > votes[xx + yy * X]:\n",
    "                        votes[xx + yy * X] = -1 if const_along_x or const_along_y else (x % 8) + (y % 8) * 8\n",
    "\n",
    "    # On elimine les bordures de l'image\n",
    "    for xx in range(X):\n",
    "        for yy in range(7):\n",
    "            votes[xx + yy * X] = -1\n",
    "        for yy in range(Y - 7, Y):\n",
    "            votes[xx + yy * X] = -1\n",
    "    for yy in range(Y):\n",
    "        for xx in range(7):\n",
    "            votes[xx + yy * X] = -1\n",
    "        for xx in range(X - 7, X):\n",
    "            votes[xx + yy * X] = -1\n",
    "    \n",
    "    return votes\n"
   ]
  },
  {
   "cell_type": "code",
   "execution_count": 5,
   "metadata": {},
   "outputs": [],
   "source": [
    "def votesforeachpixel(im) :\n",
    "    shape = im.shape\n",
    "    X = shape[0]\n",
    "    Y = shape[1]  \n",
    "    zeros = np.zeros((X,Y))\n",
    "    votes = np.zeros((X,Y))\n",
    "    for x in range(X-7) :\n",
    "        for y in range(Y-7) :\n",
    "            block = im[x:x+8,y:y+8,0]\n",
    "            constantx = False\n",
    "            constanty = False\n",
    "\n",
    "            #on regarde si le block est constant selon x ou y\n",
    "            for xx in range(8) :\n",
    "                for yy in range(8) :\n",
    "                    if block[xx,yy] == block [xx,0] :\n",
    "                        constanty = True\n",
    "\n",
    "                    if block[xx,yy] == block [0,yy] :\n",
    "                        constantx = True\n",
    "\n",
    "            dctblock = dct(dct(block, axis=0, norm='ortho'), axis=1, norm='ortho')\n",
    "            nbzeros = 0\n",
    "\n",
    "            for i in range(8) :\n",
    "                for j in range(8) :\n",
    "                    if abs(dctblock[i,j])<0.5 :\n",
    "                        nbzeros+=1\n",
    "            for xx in range(8) :\n",
    "                for yy in range(8) :\n",
    "                    if nbzeros>zeros[x+xx,y+yy] :\n",
    "                        zeros[x+xx,y+yy] = nbzeros\n",
    "                        if not (constantx or constanty) :\n",
    "                            votes[x+xx,y+yy]= (x%8,y%8)\n",
    "    return votes"
   ]
  },
  {
   "cell_type": "code",
   "execution_count": 6,
   "metadata": {},
   "outputs": [],
   "source": [
    "def detectgrid (im) :\n",
    "    shape = im.shape\n",
    "    X = shape[0]\n",
    "    Y = shape[1]  \n",
    "    votes = votesforeachpixel(im)\n",
    "    gridvotes = np.zeros((8,8))\n",
    "    maxvote =0\n",
    "    mostvotedgrid = 0\n",
    "    for x in range(X) :\n",
    "        for y in range(Y) :\n",
    "            if votes[x,y] != 0 :\n",
    "                gridvotes[votes[x,y]]+=1\n",
    "                if gridvotes[votes[x,y]]> maxvote :\n",
    "                    maxvote = gridvotes[votes[x,y]]\n",
    "                    mostvotedgrid = votes[x,y]\n",
    "    # il reste à coder le calcul du nfa\n",
    "    return mostvotedgrid, maxvote"
   ]
  },
  {
   "cell_type": "code",
   "execution_count": 7,
   "metadata": {},
   "outputs": [
    {
     "name": "stdout",
     "output_type": "stream",
     "text": [
      "(0, 0)\n"
     ]
    }
   ],
   "source": [
    "print(detectgrid(im))"
   ]
  },
  {
   "cell_type": "code",
   "execution_count": null,
   "metadata": {},
   "outputs": [],
   "source": [
    "def zero(input, input_jpeg, luminance, luminance_jpeg, votes, votes_jpeg, lnfa_grids, foreign_regions, foreign_regions_n, missing_regions, missing_regions_n, mask_f, mask_f_reg, mask_m, mask_m_reg, X, Y, C, C_jpeg):\n",
    "    main_grid = -1\n",
    "    rgb2luminance(input, luminance, X, Y, C)\n",
    "    compute_grid_votes_per_pixel(luminance, votes, X, Y)\n",
    "    main_grid = detect_global_grids(votes, lnfa_grids, X, Y)\n",
    "    foreign_regions_n[0] = detect_forgeries(votes, mask_f, mask_f_reg, foreign_regions, X, Y, main_grid, 63)\n",
    "    if main_grid > -1 and input_jpeg is not None:\n",
    "        rgb2luminance(input_jpeg, luminance_jpeg, X, Y, C_jpeg)\n",
    "        compute_grid_votes_per_pixel(luminance_jpeg, votes_jpeg, X, Y)\n",
    "        for x in range(X):\n",
    "            for y in range(Y):\n",
    "                if votes[x+y*X] == main_grid:\n",
    "                    votes_jpeg[x+y*X] = -1\n",
    "        missing_regions_n[0] = detect_forgeries(votes_jpeg, mask_m, mask_m_reg, missing_regions, X, Y, -1, 0)\n",
    "\n",
    "    return main_grid"
   ]
  },
  {
   "cell_type": "code",
   "execution_count": null,
   "metadata": {},
   "outputs": [],
   "source": []
  }
 ],
 "metadata": {
  "kernelspec": {
   "display_name": "Python 3",
   "language": "python",
   "name": "python3"
  },
  "language_info": {
   "codemirror_mode": {
    "name": "ipython",
    "version": 3
   },
   "file_extension": ".py",
   "mimetype": "text/x-python",
   "name": "python",
   "nbconvert_exporter": "python",
   "pygments_lexer": "ipython3",
   "version": "3.10.12"
  }
 },
 "nbformat": 4,
 "nbformat_minor": 2
}
