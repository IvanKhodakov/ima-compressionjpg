{
 "cells": [
  {
   "cell_type": "code",
   "execution_count": 46,
   "metadata": {},
   "outputs": [],
   "source": [
    "\n",
    "\n",
    "import numpy as np\n",
    "import platform\n",
    "import tempfile\n",
    "import os\n",
    "import matplotlib.pyplot as plt\n",
    "from scipy import ndimage as ndi\n",
    "from skimage import io, color\n",
    "from scipy.fftpack import dct\n",
    "\n"
   ]
  },
  {
   "cell_type": "code",
   "execution_count": 47,
   "metadata": {},
   "outputs": [],
   "source": [
    "im=io.imread('pelican99.jpg')\n",
    "im = color.rgb2ycbcr(im)\n"
   ]
  },
  {
   "cell_type": "code",
   "execution_count": 48,
   "metadata": {},
   "outputs": [],
   "source": [
    "\n",
    "def votesforeachpixel(im) :\n",
    "    shape = im.shape\n",
    "    X = shape[0]\n",
    "    Y = shape[1]  \n",
    "    zeros = np.zeros((X,Y))\n",
    "    votes = np.zeros((X,Y))\n",
    "    for x in range(X-7) :\n",
    "        for y in range(Y-7) :\n",
    "            block = im[x:x+8,y:y+8,0]\n",
    "            constantx = False\n",
    "            constanty = False\n",
    "\n",
    "            #on regarde si le block est constant selon x ou y\n",
    "            for xx in range(x,x+8) :\n",
    "                for yy in range(y,y+8) :\n",
    "                    if block[xx,yy] == block [xx,y] :\n",
    "                        constanty = True\n",
    "\n",
    "                    if block[xx,yy] == block [x,yy] :\n",
    "                        constantx = True\n",
    "\n",
    "            dctblock = dct(dct(block, axis=0, norm='ortho'), axis=1, norm='ortho')\n",
    "            nbzeros = 0\n",
    "\n",
    "            for i in range(8) :\n",
    "                for j in range(8) :\n",
    "                    if abs(dctblock[i,j])<0.5 :\n",
    "                        nbzeros+=1\n",
    "            for xx in range(8) :\n",
    "                for yy in range(8) :\n",
    "                    if nbzeros>zeros[x+xx,y+yy] :\n",
    "                        zeros[x+xx,y+yy] = nbzeros\n",
    "                        if not (constantx or constanty) :\n",
    "                            votes[x+xx,y+yy]= (x%8,y%8)\n",
    "    return votes"
   ]
  },
  {
   "cell_type": "code",
   "execution_count": 49,
   "metadata": {},
   "outputs": [],
   "source": [
    "def detectgrid (im) :\n",
    "    shape = im.shape\n",
    "    X = shape[0]\n",
    "    Y = shape[1]  \n",
    "    votes = votesforeachpixel(im)\n",
    "    gridvotes = np.zeros(8,8)\n",
    "    maxvote =0\n",
    "    mostvotedgrid = 0\n",
    "    for x in range(X) :\n",
    "        for y in range(Y) :\n",
    "            if votes[x,y] != 0 :\n",
    "                gridvotes[votes[x,y]]+=1\n",
    "                if gridvotes[votes[x,y]]> maxvote :\n",
    "                    maxvote = gridvotes[votes[x,y]]\n",
    "                    mostvotedgrid = votes[x,y]\n",
    "    # il reste à coder le calcul du nfa\n",
    "    return mostvotedgrid"
   ]
  },
  {
   "cell_type": "code",
   "execution_count": 50,
   "metadata": {},
   "outputs": [
    {
     "ename": "IndexError",
     "evalue": "index 8 is out of bounds for axis 1 with size 8",
     "output_type": "error",
     "traceback": [
      "\u001b[1;31m---------------------------------------------------------------------------\u001b[0m",
      "\u001b[1;31mIndexError\u001b[0m                                Traceback (most recent call last)",
      "\u001b[1;32mc:\\Users\\ivank\\OneDrive\\Documents\\Cours\\ima\\projet ima\\mon code\\zero.ipynb Cell 5\u001b[0m line \u001b[0;36m1\n\u001b[1;32m----> <a href='vscode-notebook-cell:/c%3A/Users/ivank/OneDrive/Documents/Cours/ima/projet%20ima/mon%20code/zero.ipynb#X13sZmlsZQ%3D%3D?line=0'>1</a>\u001b[0m \u001b[39mprint\u001b[39m(detectgrid(im))\n",
      "\u001b[1;32mc:\\Users\\ivank\\OneDrive\\Documents\\Cours\\ima\\projet ima\\mon code\\zero.ipynb Cell 5\u001b[0m line \u001b[0;36m5\n\u001b[0;32m      <a href='vscode-notebook-cell:/c%3A/Users/ivank/OneDrive/Documents/Cours/ima/projet%20ima/mon%20code/zero.ipynb#X13sZmlsZQ%3D%3D?line=2'>3</a>\u001b[0m X \u001b[39m=\u001b[39m shape[\u001b[39m0\u001b[39m]\n\u001b[0;32m      <a href='vscode-notebook-cell:/c%3A/Users/ivank/OneDrive/Documents/Cours/ima/projet%20ima/mon%20code/zero.ipynb#X13sZmlsZQ%3D%3D?line=3'>4</a>\u001b[0m Y \u001b[39m=\u001b[39m shape[\u001b[39m1\u001b[39m]  \n\u001b[1;32m----> <a href='vscode-notebook-cell:/c%3A/Users/ivank/OneDrive/Documents/Cours/ima/projet%20ima/mon%20code/zero.ipynb#X13sZmlsZQ%3D%3D?line=4'>5</a>\u001b[0m votes \u001b[39m=\u001b[39m votesforeachpixel(im)\n\u001b[0;32m      <a href='vscode-notebook-cell:/c%3A/Users/ivank/OneDrive/Documents/Cours/ima/projet%20ima/mon%20code/zero.ipynb#X13sZmlsZQ%3D%3D?line=5'>6</a>\u001b[0m gridvotes \u001b[39m=\u001b[39m np\u001b[39m.\u001b[39mzeros(\u001b[39m8\u001b[39m,\u001b[39m8\u001b[39m)\n\u001b[0;32m      <a href='vscode-notebook-cell:/c%3A/Users/ivank/OneDrive/Documents/Cours/ima/projet%20ima/mon%20code/zero.ipynb#X13sZmlsZQ%3D%3D?line=6'>7</a>\u001b[0m maxvote \u001b[39m=\u001b[39m\u001b[39m0\u001b[39m\n",
      "\u001b[1;32mc:\\Users\\ivank\\OneDrive\\Documents\\Cours\\ima\\projet ima\\mon code\\zero.ipynb Cell 5\u001b[0m line \u001b[0;36m1\n\u001b[0;32m     <a href='vscode-notebook-cell:/c%3A/Users/ivank/OneDrive/Documents/Cours/ima/projet%20ima/mon%20code/zero.ipynb#X13sZmlsZQ%3D%3D?line=13'>14</a>\u001b[0m \u001b[39mfor\u001b[39;00m xx \u001b[39min\u001b[39;00m \u001b[39mrange\u001b[39m(x,x\u001b[39m+\u001b[39m\u001b[39m8\u001b[39m) :\n\u001b[0;32m     <a href='vscode-notebook-cell:/c%3A/Users/ivank/OneDrive/Documents/Cours/ima/projet%20ima/mon%20code/zero.ipynb#X13sZmlsZQ%3D%3D?line=14'>15</a>\u001b[0m     \u001b[39mfor\u001b[39;00m yy \u001b[39min\u001b[39;00m \u001b[39mrange\u001b[39m(y,y\u001b[39m+\u001b[39m\u001b[39m8\u001b[39m) :\n\u001b[1;32m---> <a href='vscode-notebook-cell:/c%3A/Users/ivank/OneDrive/Documents/Cours/ima/projet%20ima/mon%20code/zero.ipynb#X13sZmlsZQ%3D%3D?line=15'>16</a>\u001b[0m         \u001b[39mif\u001b[39;00m block[xx,yy] \u001b[39m==\u001b[39m block [xx,y] :\n\u001b[0;32m     <a href='vscode-notebook-cell:/c%3A/Users/ivank/OneDrive/Documents/Cours/ima/projet%20ima/mon%20code/zero.ipynb#X13sZmlsZQ%3D%3D?line=16'>17</a>\u001b[0m             constanty \u001b[39m=\u001b[39m \u001b[39mTrue\u001b[39;00m\n\u001b[0;32m     <a href='vscode-notebook-cell:/c%3A/Users/ivank/OneDrive/Documents/Cours/ima/projet%20ima/mon%20code/zero.ipynb#X13sZmlsZQ%3D%3D?line=18'>19</a>\u001b[0m         \u001b[39mif\u001b[39;00m block[xx,yy] \u001b[39m==\u001b[39m block [x,yy] :\n",
      "\u001b[1;31mIndexError\u001b[0m: index 8 is out of bounds for axis 1 with size 8"
     ]
    }
   ],
   "source": [
    "print(detectgrid(im))"
   ]
  }
 ],
 "metadata": {
  "kernelspec": {
   "display_name": "Python 3",
   "language": "python",
   "name": "python3"
  },
  "language_info": {
   "codemirror_mode": {
    "name": "ipython",
    "version": 3
   },
   "file_extension": ".py",
   "mimetype": "text/x-python",
   "name": "python",
   "nbconvert_exporter": "python",
   "pygments_lexer": "ipython3",
   "version": "3.12.0"
  }
 },
 "nbformat": 4,
 "nbformat_minor": 2
}
