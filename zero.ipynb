{
 "cells": [
  {
   "cell_type": "code",
   "execution_count": 11,
   "metadata": {},
   "outputs": [],
   "source": [
    "import numpy as np\n",
    "import platform\n",
    "import tempfile\n",
    "import os\n",
    "import matplotlib.pyplot as plt\n",
    "from scipy import ndimage as ndi\n",
    "from skimage import io, color\n",
    "from scipy.fftpack import dct"
   ]
  },
  {
   "cell_type": "code",
   "execution_count": 12,
   "metadata": {},
   "outputs": [],
   "source": [
    "im=io.imread('pelican99.jpg')\n",
    "im = color.rgb2ycbcr(im)\n"
   ]
  },
  {
   "cell_type": "code",
   "execution_count": 13,
   "metadata": {},
   "outputs": [],
   "source": [
    "\n",
    "def votesforeachpixel(im) :\n",
    "    shape = im.shape\n",
    "    X = shape[0]\n",
    "    Y = shape[1]  \n",
    "    zeros = np.zeros((X,Y))\n",
    "    votes = np.zeros((X,Y))\n",
    "    for x in range(X-7) :\n",
    "        for y in range(Y-7) :\n",
    "            block = im[x:x+8,y:y+8,0]\n",
    "            constantx = False\n",
    "            constanty = False\n",
    "\n",
    "            #on regarde si le block est constant selon x ou y\n",
    "            for xx in range(8) :\n",
    "                for yy in range(8) :\n",
    "                    if block[xx,yy] == block [xx,0] :\n",
    "                        constanty = True\n",
    "\n",
    "                    if block[xx,yy] == block [0,yy] :\n",
    "                        constantx = True\n",
    "\n",
    "            dctblock = dct(dct(block, axis=0, norm='ortho'), axis=1, norm='ortho')\n",
    "            nbzeros = 0\n",
    "\n",
    "            for i in range(8) :\n",
    "                for j in range(8) :\n",
    "                    if abs(dctblock[i,j])<0.5 :\n",
    "                        nbzeros+=1\n",
    "            for xx in range(8) :\n",
    "                for yy in range(8) :\n",
    "                    if nbzeros>zeros[x+xx,y+yy] :\n",
    "                        zeros[x+xx,y+yy] = nbzeros\n",
    "                        if not (constantx or constanty) :\n",
    "                            votes[x+xx,y+yy]= (x%8,y%8)\n",
    "    return votes"
   ]
  },
  {
   "cell_type": "code",
   "execution_count": 14,
   "metadata": {},
   "outputs": [],
   "source": [
    "def detectgrid (im) :\n",
    "    shape = im.shape\n",
    "    X = shape[0]\n",
    "    Y = shape[1]  \n",
    "    votes = votesforeachpixel(im)\n",
    "    gridvotes = np.zeros((8,8))\n",
    "    maxvote =0\n",
    "    mostvotedgrid = 0\n",
    "    for x in range(X) :\n",
    "        for y in range(Y) :\n",
    "            if votes[x,y] != 0 :\n",
    "                gridvotes[votes[x,y]]+=1\n",
    "                if gridvotes[votes[x,y]]> maxvote :\n",
    "                    maxvote = gridvotes[votes[x,y]]\n",
    "                    mostvotedgrid = votes[x,y]\n",
    "    # il reste à coder le calcul du nfa\n",
    "    return mostvotedgrid, maxvote"
   ]
  },
  {
   "cell_type": "code",
   "execution_count": 15,
   "metadata": {},
   "outputs": [
    {
     "name": "stdout",
     "output_type": "stream",
     "text": [
      "0\n"
     ]
    }
   ],
   "source": [
    "print(detectgrid(im))"
   ]
  }
 ],
 "metadata": {
  "kernelspec": {
   "display_name": "Python 3",
   "language": "python",
   "name": "python3"
  },
  "language_info": {
   "codemirror_mode": {
    "name": "ipython",
    "version": 3
   },
   "file_extension": ".py",
   "mimetype": "text/x-python",
   "name": "python",
   "nbconvert_exporter": "python",
   "pygments_lexer": "ipython3",
   "version": "3.12.0"
  }
 },
 "nbformat": 4,
 "nbformat_minor": 2
}
